{
 "cells": [
  {
   "cell_type": "code",
   "execution_count": 19,
   "metadata": {},
   "outputs": [
    {
     "name": "stdout",
     "output_type": "stream",
     "text": [
      "enter your Purchase amount5100\n",
      "4845.0 9.5折\n"
     ]
    }
   ],
   "source": [
    "#5-46 1\n",
    "amount=eval(input('enter your Purchase amount'))\n",
    "state=\"\"\n",
    "if amount>=5000:\n",
    "    state=\"9.5折\"\n",
    "    amount=amount*0.95\n",
    "if amount>=15000:\n",
    "    state=\"9折\"\n",
    "    amount=amount*0.9\n",
    "if amount>=25000:\n",
    "    state=\"8.5折\"\n",
    "    amount=amount*0.85\n",
    "if amount>=35000:\n",
    "    state=\"8折\"\n",
    "    amount=amount*0.8\n",
    "print(amount,state)"
   ]
  },
  {
   "cell_type": "code",
   "execution_count": 26,
   "metadata": {},
   "outputs": [
    {
     "name": "stdout",
     "output_type": "stream",
     "text": [
      "enter a month5\n",
      "夏天\n"
     ]
    }
   ],
   "source": [
    "#5-46 2\n",
    "month=eval(input(\"enter a month\"))\n",
    "state=\"\"\n",
    "if 1<=month<=3:\n",
    "    state=\"春天\"\n",
    "if 4<=month<=6:\n",
    "    state=\"夏天\"\n",
    "if 7<=month<=9:\n",
    "    state=\"秋天\"\n",
    "if 10<=month<=12:\n",
    "    state=\"冬天\"\n",
    "print(state)"
   ]
  },
  {
   "cell_type": "code",
   "execution_count": 29,
   "metadata": {},
   "outputs": [
    {
     "name": "stdout",
     "output_type": "stream",
     "text": [
      "enter age18\n",
      "890元\n"
     ]
    }
   ],
   "source": [
    "#5-46 3\n",
    "age=eval(input(\"enter age\"))\n",
    "state=\"\"\n",
    "if 0<=age<=5:\n",
    "    state=\"免費\"\n",
    "if 6<=age<=11:\n",
    "    state=\"590元\"\n",
    "if 12<=age<=17:\n",
    "    state=\"790元\"\n",
    "if 18<=age<=59:\n",
    "    state=\"890元\"\n",
    "if age>=60:\n",
    "    state=\"399元\"\n",
    "print(state)"
   ]
  },
  {
   "cell_type": "code",
   "execution_count": 37,
   "metadata": {},
   "outputs": [
    {
     "ename": "SyntaxError",
     "evalue": "invalid syntax (<ipython-input-37-a55d73c349ac>, line 6)",
     "output_type": "error",
     "traceback": [
      "\u001b[1;36m  File \u001b[1;32m\"<ipython-input-37-a55d73c349ac>\"\u001b[1;36m, line \u001b[1;32m6\u001b[0m\n\u001b[1;33m    Integer%5==0:\u001b[0m\n\u001b[1;37m                 ^\u001b[0m\n\u001b[1;31mSyntaxError\u001b[0m\u001b[1;31m:\u001b[0m invalid syntax\n"
     ]
    }
   ],
   "source": [
    "#5-47 4\n",
    "Integer=eval(input(\"enter a Integer\"))\n",
    "state=\"\"\n",
    "if Integer%3==0:\n",
    "    state=\"yes\"\n",
    "if Integer%5==0:\n",
    "    state=\"yes\"\n",
    "else :\n",
    "    state=\"no\"\n",
    "print(state)"
   ]
  },
  {
   "cell_type": "code",
   "execution_count": 55,
   "metadata": {},
   "outputs": [
    {
     "name": "stdout",
     "output_type": "stream",
     "text": [
      "enter a Integer2\n",
      "no\n"
     ]
    }
   ],
   "source": [
    "#5-47 5\n",
    "Integer=eval(input(\"enter a Integer\"))\n",
    "if Integer%3==0:\n",
    "    print(\"yes\")\n",
    "else:\n",
    "    if Integer%5==0:\n",
    "        print('yes')\n",
    "    else:\n",
    "            print('no')\n"
   ]
  },
  {
   "cell_type": "code",
   "execution_count": null,
   "metadata": {},
   "outputs": [],
   "source": []
  }
 ],
 "metadata": {
  "kernelspec": {
   "display_name": "Python 3",
   "language": "python",
   "name": "python3"
  },
  "language_info": {
   "codemirror_mode": {
    "name": "ipython",
    "version": 3
   },
   "file_extension": ".py",
   "mimetype": "text/x-python",
   "name": "python",
   "nbconvert_exporter": "python",
   "pygments_lexer": "ipython3",
   "version": "3.8.3"
  }
 },
 "nbformat": 4,
 "nbformat_minor": 4
}
