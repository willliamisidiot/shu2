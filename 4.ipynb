{
 "cells": [
  {
   "cell_type": "code",
   "execution_count": null,
   "metadata": {},
   "outputs": [],
   "source": [
    "#4-18 1\n",
    "import math\n",
    "n=eval(input(\"\"))\n",
    "s=eval(input(\"\"))\n",
    "area=(n*s*s)/(4*math.tan(math.pi/n))\n",
    "print(area)"
   ]
  },
  {
   "cell_type": "code",
   "execution_count": null,
   "metadata": {},
   "outputs": [],
   "source": [
    "#4-18 2\n",
    "x1=eval(input(\"\"))\n",
    "y1=eval(input(\"\"))\n",
    "x2=eval(input(\"\"))\n",
    "y2=eval(input(\"\"))\n",
    "distance=(((x1-x2)**2)+((y1-y2)**2))**1/2\n",
    "print(distance)\n",
    "\n"
   ]
  },
  {
   "cell_type": "code",
   "execution_count": null,
   "metadata": {},
   "outputs": [],
   "source": [
    "#4-18 3\n",
    "a=eval(input(\"\"))\n",
    "b=eval(input(\"\"))\n",
    "c=eval(input(\"\"))\n",
    "s=(a+b+c)/2\n",
    "area=(s*(s-a)*(s-b)*(s-c))**2/1\n",
    "print(s)\n",
    "print(area)"
   ]
  },
  {
   "cell_type": "code",
   "execution_count": 4,
   "metadata": {},
   "outputs": [
    {
     "ename": "SyntaxError",
     "evalue": "cannot assign to operator (<ipython-input-4-4390122185ae>, line 5)",
     "output_type": "error",
     "traceback": [
      "\u001b[1;36m  File \u001b[1;32m\"<ipython-input-4-4390122185ae>\"\u001b[1;36m, line \u001b[1;32m5\u001b[0m\n\u001b[1;33m    a*x**2+b*x+c=((-b+D**1/2)/2*a)*((-b-D**1/2)/2*a)\u001b[0m\n\u001b[1;37m    ^\u001b[0m\n\u001b[1;31mSyntaxError\u001b[0m\u001b[1;31m:\u001b[0m cannot assign to operator\n"
     ]
    }
   ],
   "source": [
    "#4-18 4\n",
    "a=eval(input(\"\"))\n",
    "b=eval(input(\"\"))\n",
    "c=eval(input(\"\"))\n",
    "D=b**2-4*a*c\n",
    "a*x**2+b*x+c=((-b+D**1/2)/2*a)*((-b-D**1/2)/2*a)\n",
    "print()\n",
    "\n"
   ]
  },
  {
   "cell_type": "code",
   "execution_count": null,
   "metadata": {},
   "outputs": [],
   "source": [
    "\n"
   ]
  },
  {
   "cell_type": "code",
   "execution_count": null,
   "metadata": {},
   "outputs": [],
   "source": []
  },
  {
   "cell_type": "code",
   "execution_count": null,
   "metadata": {},
   "outputs": [],
   "source": []
  }
 ],
 "metadata": {
  "kernelspec": {
   "display_name": "Python 3",
   "language": "python",
   "name": "python3"
  }
 },
 "nbformat": 4,
 "nbformat_minor": 4
}
